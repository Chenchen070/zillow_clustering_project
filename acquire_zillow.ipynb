{
 "cells": [
  {
   "cell_type": "markdown",
   "id": "97e9ba13",
   "metadata": {},
   "source": [
    "* the columns will be selected from mysql:\n",
    "\n",
    "basementsqft, bathroomcnt, bedroomcnt, buildingqualitytypeid, calculatedfinishedsquarefeet, fips, latitude, longitude, lotsizesquarefeet, regionidcity, regionidcounty, roomcnt, yearbuilt, structuretaxvaluedollarcnt, taxvaluedollarcnt, landtaxvaluedollarcnt, taxamount, logerror, transactiondate, poolcnt, garagecarcnt"
   ]
  },
  {
   "cell_type": "code",
   "execution_count": null,
   "id": "e8b6159f",
   "metadata": {},
   "outputs": [],
   "source": [
    "import pandas as pd\n",
    "import env\n",
    "\n",
    "def get_connection(db, username=env.username, host=env.host, password=env.password):\n",
    "    return f'mysql+pymysql://{username}:{password}@{host}/{db}'\n",
    "    \n",
    "sql_query = '''\n",
    "SELECT basementsqft as basement_square_ft, bathroomcnt as bathroom, bedroomcnt as bedroom, parcelid,\n",
    "buildingqualitytypeid as quality_type, calculatedfinishedsquarefeet as finished_square_ft, garagecarcnt as garage,\n",
    "fips, latitude, longitude, lotsizesquarefeet as lot_square_ft, regionidcity as city, poolcnt as pool,\n",
    "yearbuilt, structuretaxvaluedollarcnt as structure_value, taxvaluedollarcnt as house_value,\n",
    "landtaxvaluedollarcnt as land_value, taxamount as tax, logerror as log_error, transactiondate as transaction_date\n",
    "FROM properties_2017\n",
    "JOIN predictions_2017 USING (parcelid)\n",
    "WHERE transactiondate < '2018'\n",
    "AND propertylandusetypeid = 261\n",
    "'''\n",
    "\n",
    "def get_zillow_data():\n",
    "    df = pd.read_sql(sql_query, get_connection('zillow'))\n",
    "    return df"
   ]
  }
 ],
 "metadata": {
  "kernelspec": {
   "display_name": "Python 3 (ipykernel)",
   "language": "python",
   "name": "python3"
  },
  "language_info": {
   "codemirror_mode": {
    "name": "ipython",
    "version": 3
   },
   "file_extension": ".py",
   "mimetype": "text/x-python",
   "name": "python",
   "nbconvert_exporter": "python",
   "pygments_lexer": "ipython3",
   "version": "3.9.12"
  }
 },
 "nbformat": 4,
 "nbformat_minor": 5
}
